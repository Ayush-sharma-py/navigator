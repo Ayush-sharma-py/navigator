{
 "cells": [
  {
   "cell_type": "code",
   "execution_count": 1,
   "metadata": {},
   "outputs": [],
   "source": [
    "import numpy as np\n",
    "import math\n",
    "from matplotlib import pyplot as plt\n",
    "from scipy.spatial.transform import Rotation as R"
   ]
  },
  {
   "cell_type": "code",
   "execution_count": 4,
   "metadata": {},
   "outputs": [
    {
     "ename": "TypeError",
     "evalue": "list indices must be integers or slices, not str",
     "output_type": "error",
     "traceback": [
      "\u001b[0;31m---------------------------------------------------------------------------\u001b[0m",
      "\u001b[0;31mTypeError\u001b[0m                                 Traceback (most recent call last)",
      "\u001b[0;32m<ipython-input-4-cd568d9447ed>\u001b[0m in \u001b[0;36m<module>\u001b[0;34m\u001b[0m\n\u001b[1;32m     11\u001b[0m \u001b[0;31m# Rotate all points to base_link\u001b[0m\u001b[0;34m\u001b[0m\u001b[0;34m\u001b[0m\u001b[0;34m\u001b[0m\u001b[0m\n\u001b[1;32m     12\u001b[0m \u001b[0;32mfor\u001b[0m \u001b[0mpoint\u001b[0m \u001b[0;32min\u001b[0m \u001b[0mpts\u001b[0m\u001b[0;34m:\u001b[0m\u001b[0;34m\u001b[0m\u001b[0;34m\u001b[0m\u001b[0m\n\u001b[0;32m---> 13\u001b[0;31m     \u001b[0mxyz\u001b[0m \u001b[0;34m=\u001b[0m \u001b[0mnp\u001b[0m\u001b[0;34m.\u001b[0m\u001b[0marray\u001b[0m\u001b[0;34m(\u001b[0m\u001b[0;34m[\u001b[0m\u001b[0mpoint\u001b[0m\u001b[0;34m[\u001b[0m\u001b[0;34m'x'\u001b[0m\u001b[0;34m]\u001b[0m\u001b[0;34m,\u001b[0m\u001b[0mpoint\u001b[0m\u001b[0;34m[\u001b[0m\u001b[0;34m'y'\u001b[0m\u001b[0;34m]\u001b[0m\u001b[0;34m,\u001b[0m\u001b[0mpoint\u001b[0m\u001b[0;34m[\u001b[0m\u001b[0;34m'z'\u001b[0m\u001b[0;34m]\u001b[0m\u001b[0;34m]\u001b[0m\u001b[0;34m)\u001b[0m\u001b[0;34m\u001b[0m\u001b[0;34m\u001b[0m\u001b[0m\n\u001b[0m\u001b[1;32m     14\u001b[0m     \u001b[0mr\u001b[0m \u001b[0;34m=\u001b[0m \u001b[0mR\u001b[0m\u001b[0;34m.\u001b[0m\u001b[0mfrom_euler\u001b[0m\u001b[0;34m(\u001b[0m\u001b[0;34m'xyz'\u001b[0m\u001b[0;34m,\u001b[0m \u001b[0;34m[\u001b[0m\u001b[0;34m-\u001b[0m\u001b[0;36m0.015\u001b[0m\u001b[0;34m,\u001b[0m \u001b[0;34m-\u001b[0m\u001b[0;36m0.03\u001b[0m\u001b[0;34m,\u001b[0m \u001b[0;34m-\u001b[0m\u001b[0;36m1.45\u001b[0m\u001b[0;34m]\u001b[0m\u001b[0;34m)\u001b[0m\u001b[0;34m\u001b[0m\u001b[0;34m\u001b[0m\u001b[0m\n\u001b[1;32m     15\u001b[0m     \u001b[0mxyz\u001b[0m \u001b[0;34m=\u001b[0m \u001b[0mr\u001b[0m\u001b[0;34m.\u001b[0m\u001b[0mapply\u001b[0m\u001b[0;34m(\u001b[0m\u001b[0mxyz\u001b[0m\u001b[0;34m)\u001b[0m\u001b[0;34m\u001b[0m\u001b[0;34m\u001b[0m\u001b[0m\n",
      "\u001b[0;31mTypeError\u001b[0m: list indices must be integers or slices, not str"
     ]
    }
   ],
   "source": [
    "import numpy as np\n",
    "import math\n",
    "from matplotlib import pyplot as plt\n",
    "from scipy.spatial.transform import Rotation as R\n",
    "\n",
    "pts = np.load('foo2.npy', allow_pickle=True)\n",
    "\n",
    "# Remove nan values\n",
    "pts = pts[np.logical_not(np.isnan(pts['x']))]\n",
    "\n",
    "# Rotate all points to base_link\n",
    "for point in pts:\n",
    "    xyz = np.array([point['x'],point['y'],point['z']])\n",
    "    r = R.from_euler('xyz', [-0.015, -0.03, -1.45])\n",
    "    xyz = r.apply(xyz)\n",
    "    point['x'] = xyz[0]\n",
    "    point['y'] = xyz[1]\n",
    "    point['z'] = xyz[2]\n",
    "\n",
    "# Crop to height, lower rings\n",
    "pts = pts[\n",
    "    np.logical_and(\n",
    "        pts['ring'] <= 6,\n",
    "        pts['z'] <= 0.5\n",
    "    )\n",
    "]\n",
    "\n",
    "pts = pts[\n",
    "    np.logical_not(\n",
    "        np.logical_and(\n",
    "            np.logical_and(\n",
    "                pts['y'] >= -2.0,\n",
    "                pts['y'] <= 2.0\n",
    "            ),\n",
    "            np.logical_and(\n",
    "                pts['x'] >= -2.0,\n",
    "                pts['x'] <= 2.0\n",
    "            )\n",
    "        )\n",
    "    )\n",
    "    \n",
    "]\n",
    "\n",
    "# Crop by angle\n",
    "pts = pts[\n",
    "    np.logical_and(\n",
    "        np.arctan2(pts['y'],pts['x']) < math.pi/2,\n",
    "        np.arctan2(pts['y'],pts['x']) > -math.pi/2\n",
    "    )\n",
    "]\n",
    "\n",
    "# for point in pts:\n",
    "#     xyz = np.array([point['x'],point['y'],point['z']])\n",
    "#     r = R.from_euler('xyz', [-0.015, -0.03, -1.45])\n",
    "#     xyz = r.apply(xyz)\n",
    "#     point['x'] = xyz[0]\n",
    "#     point['y'] = xyz[1]\n",
    "#     point['z'] = xyz[2]\n",
    "\n",
    "angles = np.arctan2(pts['y'],pts['x'])\n",
    "dist = np.sqrt(\n",
    "    np.square(pts['x']) +\n",
    "    np.square(pts['y'])\n",
    ")\n",
    "\n",
    "plt.title(\"X-Y\") \n",
    "plt.xlabel(\"Y\") \n",
    "plt.ylabel(\"X\") \n",
    "plt.scatter(-pts['y'], pts['x'], s=10)\n",
    "plt.show()\n",
    "\n",
    "plt.title(\"Distance vs angle\") \n",
    "plt.xlabel(\"Angle (rad)\") \n",
    "plt.ylabel(\"Height (m)\") \n",
    "plt.scatter(-1*angles, dist)\n",
    "plt.show()\n",
    "\n",
    "plt.title(\"Distance vs angle\") \n",
    "plt.xlabel(\"Angle (rad)\") \n",
    "plt.ylabel(\"Height (m)\") \n",
    "plt.scatter(np.arange(len(dist)), dist)\n",
    "plt.show()"
   ]
  },
  {
   "cell_type": "code",
   "execution_count": null,
   "metadata": {},
   "outputs": [
    {
     "name": "stdout",
     "output_type": "stream",
     "text": [
      "(6178,)\n"
     ]
    },
    {
     "data": {
      "image/png": "[encoded data removed]",
      "text/plain": [
       "<Figure size 432x288 with 1 Axes>"
      ]
     },
     "metadata": {
      "needs_background": "light"
     },
     "output_type": "display_data"
    }
   ],
   "source": [
    "print(pts.shape)\n",
    "plt.title(\"Angle over index\") \n",
    "plt.xlabel(\"Index\") \n",
    "plt.ylabel(\"Angle (theta)\") \n",
    "plt.scatter(np.arange(len(pts)), np.arctan2(pts['y'],pts['x']), s=5)\n",
    "plt.show()"
   ]
  },
  {
   "cell_type": "code",
   "execution_count": null,
   "metadata": {},
   "outputs": [
    {
     "name": "stdout",
     "output_type": "stream",
     "text": [
      "Exiting with dist=0.06309099029239143, angle=0.5488977001204883\n",
      "Exiting with dist=0.08332608083879975, angle=0.35561349509309353\n",
      "Exiting with dist=0.06911222895889924, angle=0.24952613007701857\n",
      "Exiting with dist=0.07253965031319316, angle=0.21027378184667045\n",
      "Exiting with dist=0.0675440412845795, angle=1.2583194828703084\n",
      "Exiting with dist=0.06498923061814539, angle=0.1677215593558383\n",
      "Exiting with dist=0.06351091899995379, angle=0.6566394274550305\n",
      "Exiting with dist=0.6699674716252049, angle=0.14578537922230744\n",
      "Exiting with dist=0.064454861954078, angle=0.008957413118394597\n",
      "Exiting with dist=0.06666834793680176, angle=0.001865234122458502\n"
     ]
    },
    {
     "data": {
      "image/png": "[encoded data removed]",
      "text/plain": [
       "<Figure size 432x288 with 1 Axes>"
      ]
     },
     "metadata": {
      "needs_background": "light"
     },
     "output_type": "display_data"
    }
   ],
   "source": [
    "DIST_TOLERANCE = 0.06 # meters\n",
    "\n",
    "def dist_2d(ptA, ptB):\n",
    "    # print(\"{} AND {}\".format(ptA, ptB))\n",
    "    res =  math.sqrt(\n",
    "        (ptA['x'] - ptB['x']) ** 2 +\n",
    "        (ptA['y'] - ptB['y']) ** 2\n",
    "    )\n",
    "    return res\n",
    "\n",
    "def slide(ring_pts):\n",
    "    # Initial distance is between first two points\n",
    "    dist: float = dist_2d(ring_pts[0], ring_pts[1])\n",
    "    min_dist = 1.0\n",
    "    # Initial state is no curb\n",
    "    prev_point = ring_pts[0]\n",
    "    \n",
    "    for pt in ring_pts[1:]:\n",
    "        dist = dist_2d(pt, prev_point)\n",
    "        abs_angle = abs(math.atan2(pt['y'],pt['x']))\n",
    "        if dist > DIST_TOLERANCE and abs_angle < 1.4:\n",
    "            print(\"Exiting with dist={}, angle={}\".format(dist, abs_angle))\n",
    "            return prev_point\n",
    "        if dist < min_dist:\n",
    "            dist = min_dist\n",
    "        # print(dist)\n",
    "        prev_point = pt\n",
    "    # print(\"No curb found. Min dist: {}\".format(min_dist))\n",
    "\n",
    "def slideWindow(ring_pts):\n",
    "    # Find index of point at theta=0\n",
    "    angles = np.arctan2(ring_pts['y'],ring_pts['x'])\n",
    "    abs_angles = np.abs(angles)\n",
    "    zero_idx = np.argmin(abs_angles)\n",
    "    # print(ring_pts[zero_idx])\n",
    "\n",
    "    # ring_pts = ring_pts[angles>0]\n",
    "    # angles = angles[angles>0]\n",
    "    left_pts = ring_pts[:zero_idx]\n",
    "    left_curb_pt = slide(left_pts[::-1])\n",
    "    # if pt is not None:\n",
    "    #     plt.scatter(-pt['y'], pt['x'], s=20)\n",
    "\n",
    "    right_pts = ring_pts[zero_idx:]\n",
    "    right_curb_pt = slide(right_pts[::1])\n",
    "    # if pt is not None:\n",
    "    #     plt.scatter(-pt['y'], pt['x'], s=20)\n",
    "\n",
    "    # plt.title(\"Left Pane\") \n",
    "    # plt.xlabel(\"y (m)\") \n",
    "    # plt.ylabel(\"x (m)\") \n",
    "    # plt.scatter(-ring_pts['y'], ring_pts['x'], s=5)\n",
    "    # if pt is not None:\n",
    "    #     plt.scatter(-pt['y'], pt['x'], s=20)\n",
    "    # plt.show()\n",
    "\n",
    "    return (left_curb_pt, right_curb_pt)\n",
    "\n",
    "curb_bounds = []\n",
    "\n",
    "for ring in range(7):\n",
    "    ring_pts = pts[pts['ring']==ring]\n",
    "    curb_bounds.append(slideWindow(ring_pts))\n",
    "\n",
    "plt.title(\"Detected Curbs\") \n",
    "plt.xlabel(\"y (m)\") \n",
    "plt.ylabel(\"x (m)\") \n",
    "plt.xlim(-15, 30)\n",
    "plt.scatter(-pts['y'], pts['x'], s=0.1)\n",
    "\n",
    "\n",
    "\n",
    "for ring_bound in curb_bounds:\n",
    "    if ring_bound[0] is not None:\n",
    "        plt.scatter(-ring_bound[0]['y'], ring_bound[0]['x'], s=20)\n",
    "    if ring_bound[1] is not None:\n",
    "        plt.scatter(-ring_bound[1]['y'], ring_bound[1]['x'], s=20)\n",
    "\n",
    "plt.show()"
   ]
  }
 ],
 "metadata": {
  "interpreter": {
   "hash": "767d51c1340bd893661ea55ea3124f6de3c7a262a8b4abca0554b478b1e2ff90"
  },
  "kernelspec": {
   "display_name": "Python 3.8.10 64-bit",
   "language": "python",
   "name": "python3"
  },
  "language_info": {
   "codemirror_mode": {
    "name": "ipython",
    "version": 3
   },
   "file_extension": ".py",
   "mimetype": "text/x-python",
   "name": "python",
   "nbconvert_exporter": "python",
   "pygments_lexer": "ipython3",
   "version": "3.8.10"
  },
  "orig_nbformat": 4
 },
 "nbformat": 4,
 "nbformat_minor": 2
}
